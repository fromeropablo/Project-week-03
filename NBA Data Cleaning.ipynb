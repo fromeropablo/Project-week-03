{
 "cells": [
  {
   "cell_type": "code",
   "execution_count": 2,
   "metadata": {},
   "outputs": [],
   "source": [
    "import os\n",
    "import pandas as pd\n",
    "import requests\n",
    "import src.downloading-cleaning as dc\n",
    "from bs4 import BeautifulSoup"
   ]
  },
  {
   "cell_type": "code",
   "execution_count": 72,
   "metadata": {},
   "outputs": [],
   "source": [
    "def download_dataset():\n",
    "    '''Downloads a dataset from kaggle and only keeps the csv in your data file. Beware of your own data structure:\n",
    "    this creates a data directory and also moves all the .csv files next to your jupyter notebooks to it.\n",
    "    Takes: url from kaggle\n",
    "    Returns: a folder with the downloaded csv\n",
    "    '''\n",
    "    \n",
    "    #Gets the name of the dataset.zip\n",
    "    url = input(\"Introduce la url: \")\n",
    "    \n",
    "    #Gets the name of the dataset.zip\n",
    "    endopint = url.split(\"/\")[-1]\n",
    "    user = url.split(\"/\")[-2]\n",
    "    \n",
    "    #Download, decompress and leaves only the csv\n",
    "    download = f\"kaggle datasets download -d {user}/{endopint}; say -v Monica 'descargando'\"\n",
    "    decompress = f\"tar -xzvf {endopint}.zip; say -v Monica 'descomprimiendo'\"\n",
    "    delete = f\"rm -rf {endopint}.zip; say -v Monica 'borrando el zip'\"\n",
    "    make_directory = \"mkdir data\"\n",
    "    lista = \"ls >> archivos.txt\"\n",
    "    \n",
    "    for i in [download, decompress, delete, make_directory, lista]:\n",
    "        os.system(i)\n",
    "    \n",
    "    #Gets the name of the csv (you should only have one csv when running this code)\n",
    "    lista_archivos = open('archivos.txt').read()\n",
    "    nueva = lista_archivos.split(\"\\n\")\n",
    "    \n",
    "    #Moves the .csv into the data directory\n",
    "    for i in nueva:\n",
    "        if i.endswith(\".csv\"):\n",
    "            move_and_delete = f\"mv {i} nba_data/dataset.csv; rm archivos.txt; say -v Monica 'moviendo el dataset'\"\n",
    "            return os.system(move_and_delete)"
   ]
  },
  {
   "cell_type": "code",
   "execution_count": 76,
   "metadata": {},
   "outputs": [
    {
     "name": "stdout",
     "output_type": "stream",
     "text": [
      "Introduce la url: https://www.kaggle.com/justinas/nba-players-data\n"
     ]
    }
   ],
   "source": [
    "download_dataset()"
   ]
  },
  {
   "cell_type": "code",
   "execution_count": 74,
   "metadata": {},
   "outputs": [],
   "source": [
    "data = pd.read_csv(\"nba_data/dataset.csv\", encoding = \"ISO-8859-1\")"
   ]
  },
  {
   "cell_type": "markdown",
   "metadata": {},
   "source": [
    "As we will see there are no missing values in the dataset, so we are going to the court just renaming some columns and dropping one of them, the classic one \"Unnamed:0\". "
   ]
  },
  {
   "cell_type": "code",
   "execution_count": 76,
   "metadata": {},
   "outputs": [],
   "source": [
    "data.drop([\"Unnamed: 0\", \"player_height\", \"player_weight\"], axis = 1, inplace = True)"
   ]
  },
  {
   "cell_type": "code",
   "execution_count": 77,
   "metadata": {},
   "outputs": [],
   "source": [
    "data.columns = map(str.upper, data.columns)"
   ]
  },
  {
   "cell_type": "markdown",
   "metadata": {},
   "source": [
    "Now we are on the court. We are playing a clean game with no fouls but... we need to enrich our stats. How? With information from NBA stats. We are going to add average statistics from this season. Because, you know, it's 2021. "
   ]
  },
  {
   "cell_type": "code",
   "execution_count": 6,
   "metadata": {},
   "outputs": [],
   "source": [
    "url_bio = \"https://stats.nba.com/stats/leaguedashplayerbiostats?College=&Conference=&Country=&DateFrom=&DateTo=&Division=&DraftPick=&DraftYear=&GameScope=&GameSegment=&Height=&LastNGames=0&LeagueID=00&Location=&Month=0&OpponentTeamID=0&Outcome=&PORound=0&PerMode=PerGame&Period=0&PlayerExperience=&PlayerPosition=&Season=2020-21&SeasonSegment=&SeasonType=Regular+Season&ShotClockRange=&StarterBench=&TeamID=0&VsConference=&VsDivision=&Weight=\""
   ]
  },
  {
   "cell_type": "code",
   "execution_count": 7,
   "metadata": {},
   "outputs": [],
   "source": [
    "headers = {\n",
    "    \"Accept\": \"application/json, text/plain, */*\",\n",
    "    \"Accept-Encoding\": \"gzip, deflate, br\",\n",
    "    \"Accept-Language\": \"es-ES,es;q=0.9\",\n",
    "    \"Origin\": \"https://www.nba.com\",\n",
    "    \"Referer\": \"https://www.nba.com/\",\n",
    "    \"Sec-Fetch-Dest\": \"empty\",\n",
    "    \"Sec-Fetch-Mode\": \"cors\",\n",
    "    \"Sec-Fetch-Site\": \"same-site\",\n",
    "    \"User-Agent\": \"Mozilla/5.0 (X11; Linux x86_64) AppleWebKit/537.36 (KHTML, like Gecko) Chrome/89.0.4389.114 Safari/537.36\",\n",
    "    \"x-nba-stats-origin\": \"stats\",\n",
    "    \"x-nba-stats-token\": \"true\"\n",
    "}"
   ]
  },
  {
   "cell_type": "code",
   "execution_count": 8,
   "metadata": {},
   "outputs": [],
   "source": [
    "response_bio = requests.get(url_bio, headers=headers).json()"
   ]
  },
  {
   "cell_type": "code",
   "execution_count": 69,
   "metadata": {},
   "outputs": [
    {
     "data": {
      "text/html": [
       "<div>\n",
       "<style scoped>\n",
       "    .dataframe tbody tr th:only-of-type {\n",
       "        vertical-align: middle;\n",
       "    }\n",
       "\n",
       "    .dataframe tbody tr th {\n",
       "        vertical-align: top;\n",
       "    }\n",
       "\n",
       "    .dataframe thead th {\n",
       "        text-align: right;\n",
       "    }\n",
       "</style>\n",
       "<table border=\"1\" class=\"dataframe\">\n",
       "  <thead>\n",
       "    <tr style=\"text-align: right;\">\n",
       "      <th></th>\n",
       "      <th>PLAYER_ID</th>\n",
       "      <th>PLAYER_NAME</th>\n",
       "      <th>TEAM_ID</th>\n",
       "      <th>TEAM_ABBREVIATION</th>\n",
       "      <th>AGE</th>\n",
       "      <th>PLAYER_HEIGHT</th>\n",
       "      <th>PLAYER_HEIGHT_INCHES</th>\n",
       "      <th>PLAYER_WEIGHT</th>\n",
       "      <th>COLLEGE</th>\n",
       "      <th>COUNTRY</th>\n",
       "      <th>...</th>\n",
       "      <th>GP</th>\n",
       "      <th>PTS</th>\n",
       "      <th>REB</th>\n",
       "      <th>AST</th>\n",
       "      <th>NET_RATING</th>\n",
       "      <th>OREB_PCT</th>\n",
       "      <th>DREB_PCT</th>\n",
       "      <th>USG_PCT</th>\n",
       "      <th>TS_PCT</th>\n",
       "      <th>AST_PCT</th>\n",
       "    </tr>\n",
       "  </thead>\n",
       "  <tbody>\n",
       "    <tr>\n",
       "      <th>0</th>\n",
       "      <td>203932</td>\n",
       "      <td>Aaron Gordon</td>\n",
       "      <td>1610612743</td>\n",
       "      <td>DEN</td>\n",
       "      <td>25.0</td>\n",
       "      <td>6-8</td>\n",
       "      <td>80</td>\n",
       "      <td>235</td>\n",
       "      <td>Arizona</td>\n",
       "      <td>USA</td>\n",
       "      <td>...</td>\n",
       "      <td>33</td>\n",
       "      <td>13.8</td>\n",
       "      <td>6.0</td>\n",
       "      <td>3.8</td>\n",
       "      <td>1.5</td>\n",
       "      <td>0.047</td>\n",
       "      <td>0.158</td>\n",
       "      <td>0.217</td>\n",
       "      <td>0.553</td>\n",
       "      <td>0.191</td>\n",
       "    </tr>\n",
       "    <tr>\n",
       "      <th>1</th>\n",
       "      <td>1628988</td>\n",
       "      <td>Aaron Holiday</td>\n",
       "      <td>1610612754</td>\n",
       "      <td>IND</td>\n",
       "      <td>24.0</td>\n",
       "      <td>6-0</td>\n",
       "      <td>72</td>\n",
       "      <td>185</td>\n",
       "      <td>UCLA</td>\n",
       "      <td>USA</td>\n",
       "      <td>...</td>\n",
       "      <td>50</td>\n",
       "      <td>7.4</td>\n",
       "      <td>1.2</td>\n",
       "      <td>1.7</td>\n",
       "      <td>-0.9</td>\n",
       "      <td>0.009</td>\n",
       "      <td>0.058</td>\n",
       "      <td>0.193</td>\n",
       "      <td>0.506</td>\n",
       "      <td>0.131</td>\n",
       "    </tr>\n",
       "    <tr>\n",
       "      <th>2</th>\n",
       "      <td>1630174</td>\n",
       "      <td>Aaron Nesmith</td>\n",
       "      <td>1610612738</td>\n",
       "      <td>BOS</td>\n",
       "      <td>21.0</td>\n",
       "      <td>6-5</td>\n",
       "      <td>77</td>\n",
       "      <td>215</td>\n",
       "      <td>Vanderbilt</td>\n",
       "      <td>USA</td>\n",
       "      <td>...</td>\n",
       "      <td>30</td>\n",
       "      <td>3.4</td>\n",
       "      <td>2.2</td>\n",
       "      <td>0.3</td>\n",
       "      <td>3.6</td>\n",
       "      <td>0.034</td>\n",
       "      <td>0.122</td>\n",
       "      <td>0.122</td>\n",
       "      <td>0.510</td>\n",
       "      <td>0.033</td>\n",
       "    </tr>\n",
       "    <tr>\n",
       "      <th>3</th>\n",
       "      <td>1627846</td>\n",
       "      <td>Abdel Nader</td>\n",
       "      <td>1610612756</td>\n",
       "      <td>PHX</td>\n",
       "      <td>27.0</td>\n",
       "      <td>6-5</td>\n",
       "      <td>77</td>\n",
       "      <td>225</td>\n",
       "      <td>Iowa State</td>\n",
       "      <td>Egypt</td>\n",
       "      <td>...</td>\n",
       "      <td>24</td>\n",
       "      <td>6.7</td>\n",
       "      <td>2.6</td>\n",
       "      <td>0.8</td>\n",
       "      <td>5.0</td>\n",
       "      <td>0.020</td>\n",
       "      <td>0.151</td>\n",
       "      <td>0.183</td>\n",
       "      <td>0.605</td>\n",
       "      <td>0.078</td>\n",
       "    </tr>\n",
       "    <tr>\n",
       "      <th>4</th>\n",
       "      <td>1629690</td>\n",
       "      <td>Adam Mokoka</td>\n",
       "      <td>1610612741</td>\n",
       "      <td>CHI</td>\n",
       "      <td>22.0</td>\n",
       "      <td>6-4</td>\n",
       "      <td>76</td>\n",
       "      <td>190</td>\n",
       "      <td>None</td>\n",
       "      <td>France</td>\n",
       "      <td>...</td>\n",
       "      <td>9</td>\n",
       "      <td>1.4</td>\n",
       "      <td>0.4</td>\n",
       "      <td>0.4</td>\n",
       "      <td>-13.6</td>\n",
       "      <td>0.020</td>\n",
       "      <td>0.073</td>\n",
       "      <td>0.148</td>\n",
       "      <td>0.433</td>\n",
       "      <td>0.167</td>\n",
       "    </tr>\n",
       "  </tbody>\n",
       "</table>\n",
       "<p>5 rows × 23 columns</p>\n",
       "</div>"
      ],
      "text/plain": [
       "   PLAYER_ID    PLAYER_NAME     TEAM_ID TEAM_ABBREVIATION   AGE PLAYER_HEIGHT  \\\n",
       "0     203932   Aaron Gordon  1610612743               DEN  25.0           6-8   \n",
       "1    1628988  Aaron Holiday  1610612754               IND  24.0           6-0   \n",
       "2    1630174  Aaron Nesmith  1610612738               BOS  21.0           6-5   \n",
       "3    1627846    Abdel Nader  1610612756               PHX  27.0           6-5   \n",
       "4    1629690    Adam Mokoka  1610612741               CHI  22.0           6-4   \n",
       "\n",
       "   PLAYER_HEIGHT_INCHES PLAYER_WEIGHT     COLLEGE COUNTRY  ...  GP   PTS  REB  \\\n",
       "0                    80           235     Arizona     USA  ...  33  13.8  6.0   \n",
       "1                    72           185        UCLA     USA  ...  50   7.4  1.2   \n",
       "2                    77           215  Vanderbilt     USA  ...  30   3.4  2.2   \n",
       "3                    77           225  Iowa State   Egypt  ...  24   6.7  2.6   \n",
       "4                    76           190        None  France  ...   9   1.4  0.4   \n",
       "\n",
       "   AST  NET_RATING  OREB_PCT  DREB_PCT  USG_PCT  TS_PCT  AST_PCT  \n",
       "0  3.8         1.5     0.047     0.158    0.217   0.553    0.191  \n",
       "1  1.7        -0.9     0.009     0.058    0.193   0.506    0.131  \n",
       "2  0.3         3.6     0.034     0.122    0.122   0.510    0.033  \n",
       "3  0.8         5.0     0.020     0.151    0.183   0.605    0.078  \n",
       "4  0.4       -13.6     0.020     0.073    0.148   0.433    0.167  \n",
       "\n",
       "[5 rows x 23 columns]"
      ]
     },
     "execution_count": 69,
     "metadata": {},
     "output_type": "execute_result"
    }
   ],
   "source": [
    "frame_bio = pd.DataFrame(response_bio['resultSets'][0]['rowSet'])\n",
    "frame_bio.columns = response_bio['resultSets'][0]['headers']\n",
    "frame_bio.head()"
   ]
  },
  {
   "cell_type": "code",
   "execution_count": 70,
   "metadata": {},
   "outputs": [],
   "source": [
    "frame_bio.drop([\"PLAYER_ID\", \"TEAM_ID\", \"PLAYER_HEIGHT_INCHES\", \"PLAYER_HEIGHT\", \"PLAYER_WEIGHT\"],\n",
    "               axis=1, inplace=True)\n",
    "frame_bio[\"SEASON\"] = \"2020-21\""
   ]
  },
  {
   "cell_type": "code",
   "execution_count": 72,
   "metadata": {},
   "outputs": [
    {
     "data": {
      "text/html": [
       "<div>\n",
       "<style scoped>\n",
       "    .dataframe tbody tr th:only-of-type {\n",
       "        vertical-align: middle;\n",
       "    }\n",
       "\n",
       "    .dataframe tbody tr th {\n",
       "        vertical-align: top;\n",
       "    }\n",
       "\n",
       "    .dataframe thead th {\n",
       "        text-align: right;\n",
       "    }\n",
       "</style>\n",
       "<table border=\"1\" class=\"dataframe\">\n",
       "  <thead>\n",
       "    <tr style=\"text-align: right;\">\n",
       "      <th></th>\n",
       "      <th>PLAYER_NAME</th>\n",
       "      <th>TEAM_ABBREVIATION</th>\n",
       "      <th>AGE</th>\n",
       "      <th>COLLEGE</th>\n",
       "      <th>COUNTRY</th>\n",
       "      <th>DRAFT_YEAR</th>\n",
       "      <th>DRAFT_ROUND</th>\n",
       "      <th>DRAFT_NUMBER</th>\n",
       "      <th>GP</th>\n",
       "      <th>PTS</th>\n",
       "      <th>REB</th>\n",
       "      <th>AST</th>\n",
       "      <th>NET_RATING</th>\n",
       "      <th>OREB_PCT</th>\n",
       "      <th>DREB_PCT</th>\n",
       "      <th>USG_PCT</th>\n",
       "      <th>TS_PCT</th>\n",
       "      <th>AST_PCT</th>\n",
       "      <th>SEASON</th>\n",
       "    </tr>\n",
       "  </thead>\n",
       "  <tbody>\n",
       "    <tr>\n",
       "      <th>0</th>\n",
       "      <td>Aaron Gordon</td>\n",
       "      <td>DEN</td>\n",
       "      <td>25.0</td>\n",
       "      <td>Arizona</td>\n",
       "      <td>USA</td>\n",
       "      <td>2014</td>\n",
       "      <td>1</td>\n",
       "      <td>4</td>\n",
       "      <td>33</td>\n",
       "      <td>13.8</td>\n",
       "      <td>6.0</td>\n",
       "      <td>3.8</td>\n",
       "      <td>1.5</td>\n",
       "      <td>0.047</td>\n",
       "      <td>0.158</td>\n",
       "      <td>0.217</td>\n",
       "      <td>0.553</td>\n",
       "      <td>0.191</td>\n",
       "      <td>2020-21</td>\n",
       "    </tr>\n",
       "    <tr>\n",
       "      <th>1</th>\n",
       "      <td>Aaron Holiday</td>\n",
       "      <td>IND</td>\n",
       "      <td>24.0</td>\n",
       "      <td>UCLA</td>\n",
       "      <td>USA</td>\n",
       "      <td>2018</td>\n",
       "      <td>1</td>\n",
       "      <td>23</td>\n",
       "      <td>50</td>\n",
       "      <td>7.4</td>\n",
       "      <td>1.2</td>\n",
       "      <td>1.7</td>\n",
       "      <td>-0.9</td>\n",
       "      <td>0.009</td>\n",
       "      <td>0.058</td>\n",
       "      <td>0.193</td>\n",
       "      <td>0.506</td>\n",
       "      <td>0.131</td>\n",
       "      <td>2020-21</td>\n",
       "    </tr>\n",
       "    <tr>\n",
       "      <th>2</th>\n",
       "      <td>Aaron Nesmith</td>\n",
       "      <td>BOS</td>\n",
       "      <td>21.0</td>\n",
       "      <td>Vanderbilt</td>\n",
       "      <td>USA</td>\n",
       "      <td>2020</td>\n",
       "      <td>1</td>\n",
       "      <td>14</td>\n",
       "      <td>30</td>\n",
       "      <td>3.4</td>\n",
       "      <td>2.2</td>\n",
       "      <td>0.3</td>\n",
       "      <td>3.6</td>\n",
       "      <td>0.034</td>\n",
       "      <td>0.122</td>\n",
       "      <td>0.122</td>\n",
       "      <td>0.510</td>\n",
       "      <td>0.033</td>\n",
       "      <td>2020-21</td>\n",
       "    </tr>\n",
       "    <tr>\n",
       "      <th>3</th>\n",
       "      <td>Abdel Nader</td>\n",
       "      <td>PHX</td>\n",
       "      <td>27.0</td>\n",
       "      <td>Iowa State</td>\n",
       "      <td>Egypt</td>\n",
       "      <td>2016</td>\n",
       "      <td>2</td>\n",
       "      <td>58</td>\n",
       "      <td>24</td>\n",
       "      <td>6.7</td>\n",
       "      <td>2.6</td>\n",
       "      <td>0.8</td>\n",
       "      <td>5.0</td>\n",
       "      <td>0.020</td>\n",
       "      <td>0.151</td>\n",
       "      <td>0.183</td>\n",
       "      <td>0.605</td>\n",
       "      <td>0.078</td>\n",
       "      <td>2020-21</td>\n",
       "    </tr>\n",
       "    <tr>\n",
       "      <th>4</th>\n",
       "      <td>Adam Mokoka</td>\n",
       "      <td>CHI</td>\n",
       "      <td>22.0</td>\n",
       "      <td>None</td>\n",
       "      <td>France</td>\n",
       "      <td>Undrafted</td>\n",
       "      <td>Undrafted</td>\n",
       "      <td>Undrafted</td>\n",
       "      <td>9</td>\n",
       "      <td>1.4</td>\n",
       "      <td>0.4</td>\n",
       "      <td>0.4</td>\n",
       "      <td>-13.6</td>\n",
       "      <td>0.020</td>\n",
       "      <td>0.073</td>\n",
       "      <td>0.148</td>\n",
       "      <td>0.433</td>\n",
       "      <td>0.167</td>\n",
       "      <td>2020-21</td>\n",
       "    </tr>\n",
       "  </tbody>\n",
       "</table>\n",
       "</div>"
      ],
      "text/plain": [
       "     PLAYER_NAME TEAM_ABBREVIATION   AGE     COLLEGE COUNTRY DRAFT_YEAR  \\\n",
       "0   Aaron Gordon               DEN  25.0     Arizona     USA       2014   \n",
       "1  Aaron Holiday               IND  24.0        UCLA     USA       2018   \n",
       "2  Aaron Nesmith               BOS  21.0  Vanderbilt     USA       2020   \n",
       "3    Abdel Nader               PHX  27.0  Iowa State   Egypt       2016   \n",
       "4    Adam Mokoka               CHI  22.0        None  France  Undrafted   \n",
       "\n",
       "  DRAFT_ROUND DRAFT_NUMBER  GP   PTS  REB  AST  NET_RATING  OREB_PCT  \\\n",
       "0           1            4  33  13.8  6.0  3.8         1.5     0.047   \n",
       "1           1           23  50   7.4  1.2  1.7        -0.9     0.009   \n",
       "2           1           14  30   3.4  2.2  0.3         3.6     0.034   \n",
       "3           2           58  24   6.7  2.6  0.8         5.0     0.020   \n",
       "4   Undrafted    Undrafted   9   1.4  0.4  0.4       -13.6     0.020   \n",
       "\n",
       "   DREB_PCT  USG_PCT  TS_PCT  AST_PCT   SEASON  \n",
       "0     0.158    0.217   0.553    0.191  2020-21  \n",
       "1     0.058    0.193   0.506    0.131  2020-21  \n",
       "2     0.122    0.122   0.510    0.033  2020-21  \n",
       "3     0.151    0.183   0.605    0.078  2020-21  \n",
       "4     0.073    0.148   0.433    0.167  2020-21  "
      ]
     },
     "execution_count": 72,
     "metadata": {},
     "output_type": "execute_result"
    }
   ],
   "source": [
    "frame_bio.head()"
   ]
  },
  {
   "cell_type": "code",
   "execution_count": 78,
   "metadata": {},
   "outputs": [],
   "source": [
    "data_updated = pd.concat([data, frame_bio])"
   ]
  },
  {
   "cell_type": "code",
   "execution_count": 79,
   "metadata": {},
   "outputs": [],
   "source": [
    "data_updated.to_csv(\"nba_data_2021.csv\")"
   ]
  },
  {
   "cell_type": "code",
   "execution_count": null,
   "metadata": {},
   "outputs": [],
   "source": []
  },
  {
   "cell_type": "code",
   "execution_count": 89,
   "metadata": {},
   "outputs": [],
   "source": [
    "### Vamos con el scrapeo niño"
   ]
  },
  {
   "cell_type": "code",
   "execution_count": 86,
   "metadata": {},
   "outputs": [],
   "source": [
    "url = \"https://www.acb.com/club/estadisticas/id/\""
   ]
  },
  {
   "cell_type": "code",
   "execution_count": 87,
   "metadata": {},
   "outputs": [],
   "source": [
    "stats_list = []\n",
    "for year in range(2000, 2021):\n",
    "    for team in range(1,20):\n",
    "        html = requests.get(url+\"{}\".format(team)+\"/temporada_id/\"+\"{}\".format(year))\n",
    "        res = BeautifulSoup(html.content,\"html.parser\")\n",
    "        #Aquí faltaría un range de los jugadores\n",
    "        table = res.find(\"tbody\")\n",
    "        rows = table.findAll(\"tr\")\n",
    "        for r in rows:\n",
    "            elements = r.findAll(\"td\")\n",
    "            jugador = [e.getText().strip() for e in elements]\n",
    "            stats_list.append(jugador)"
   ]
  },
  {
   "cell_type": "code",
   "execution_count": 88,
   "metadata": {},
   "outputs": [],
   "source": [
    "#Buscamos los headers y reemplazamos los \"\\n\" con comas y separamos por comas para crear la lista que queremos\"\n",
    "headers = res.findAll(\"thead\")[0].findAll(\"tr\")[1].text.replace(\"\\n\", \",\").split(\",\")"
   ]
  },
  {
   "cell_type": "code",
   "execution_count": 89,
   "metadata": {},
   "outputs": [
    {
     "data": {
      "text/plain": [
       "25"
      ]
     },
     "execution_count": 89,
     "metadata": {},
     "output_type": "execute_result"
    }
   ],
   "source": [
    "#Eliminamos las columnas de más y añadimos la de \"Val\"\n",
    "unwanted = {\"\", \"\\xa0\"}\n",
    "headers = [e for e in headers if e not in unwanted]\n",
    "headers.append(\"Val\")\n",
    "len(headers)"
   ]
  },
  {
   "cell_type": "code",
   "execution_count": 90,
   "metadata": {},
   "outputs": [],
   "source": [
    "headers = ['NADA','PLAYER_NAME', 'GP','MIN/G','5i','PPG','3FGM','3FGA','3FG%','2FGM','2FGA','2FG%','FTM','FTA','FT%',\n",
    "           'DREB','OREB','TREB','ASIST','ST','TO','BLK','RBLK','DUNKS','PF','RPF','+/-','VAL']"
   ]
  },
  {
   "cell_type": "code",
   "execution_count": 104,
   "metadata": {},
   "outputs": [],
   "source": [
    "acb_dataset = pd.DataFrame(stats_list, columns = headers)\n",
    "index = acb_dataset[acb_dataset[\"PLAYER_NAME\"] == \"Totales\"].index\n",
    "acb_dataset.drop(index, inplace=True)\n",
    "acb_dataset = acb_dataset.drop([\"NADA\", \"5i\"], axis = 1)"
   ]
  },
  {
   "cell_type": "code",
   "execution_count": 106,
   "metadata": {},
   "outputs": [],
   "source": [
    "acb_dataset.to_csv(\"./acb_dataset.csv\")"
   ]
  }
 ],
 "metadata": {
  "kernelspec": {
   "display_name": "Python 3",
   "language": "python",
   "name": "python3"
  },
  "language_info": {
   "codemirror_mode": {
    "name": "ipython",
    "version": 3
   },
   "file_extension": ".py",
   "mimetype": "text/x-python",
   "name": "python",
   "nbconvert_exporter": "python",
   "pygments_lexer": "ipython3",
   "version": "3.6.9"
  }
 },
 "nbformat": 4,
 "nbformat_minor": 2
}
